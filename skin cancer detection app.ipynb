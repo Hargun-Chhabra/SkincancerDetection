{
 "cells": [
  {
   "cell_type": "code",
   "execution_count": null,
   "metadata": {},
   "outputs": [],
   "source": [
    "import tensorflow as tf\n",
    "import tensorflow.keras.models\n",
    "tf.keras.backend.clear_session()"
   ]
  },
  {
   "cell_type": "code",
   "execution_count": null,
   "metadata": {},
   "outputs": [],
   "source": [
    "from flask import Flask, render_template, Response\n",
    "from camera import Camera\n",
    "import cv2\n",
    "import numpy as np"
   ]
  },
  {
   "cell_type": "code",
   "execution_count": null,
   "metadata": {},
   "outputs": [],
   "source": [
    "def load_model():\n",
    "    new_mod=tf.keras.models.load_model(r'C:\\Users\\Hargun\\Desktop\\cancguip2\\skinmodellatest2')\n",
    "    new_mod._make_predict_function() \n",
    "#     print('model loaded') # just to keep track in your server\n",
    "    return new_mod"
   ]
  },
  {
   "cell_type": "code",
   "execution_count": null,
   "metadata": {},
   "outputs": [],
   "source": [
    "def modelresults(img):\n",
    "    x=cv2.resize(img,(100,100))\n",
    "    x=x.reshape(1,100,100,3)\n",
    "    return x"
   ]
  },
  {
   "cell_type": "code",
   "execution_count": null,
   "metadata": {},
   "outputs": [],
   "source": [
    "app = Flask(__name__)\n",
    "\n",
    "@app.route('/')\n",
    "def index():\n",
    "    return render_template('index.html')\n",
    "\n",
    "def gen():\n",
    "    vc = cv2.VideoCapture(0)\n",
    "    color = (150, 200, 180)\n",
    "    thickness = 2\n",
    "    font = cv2.FONT_HERSHEY_SIMPLEX \n",
    "    while True:\n",
    "        texval=''\n",
    "        rval, frame = vc.read()\n",
    "        zx=frame.shape\n",
    "        res=modelresults(frame)\n",
    "        mod=load_model()\n",
    "        finresult=mod.predict(res)[0][0]\n",
    "        if(finresult>0.5):\n",
    "            texval='Malignant'\n",
    "        else:\n",
    "            texval='Benign'\n",
    "        frame=cv2.putText(frame,texval, (int(zx[1]*(3/4)),int(zx[0]/4)), font,1, color, thickness, cv2.LINE_AA)\n",
    "        frame=cv2.rectangle(frame,(int(zx[1]/4),int(zx[0]/4)),(int(zx[1]*(3/4)),int(zx[0]*(3/4))),(255,0,0),2)\n",
    "        flag, encodedImage = cv2.imencode(\".jpg\",frame)\n",
    "        yield (b'--frame\\r\\n'\n",
    "                   b'Content-Type: image/jpeg\\r\\n\\r\\n' + bytearray(encodedImage) + b'\\r\\n')\n",
    "        tf.keras.backend.clear_session()\n",
    "\n",
    "       \n",
    "\n",
    "\n",
    "@app.route('/video_feed')\n",
    "def video_feed():\n",
    "    return Response(gen(),\n",
    "                    mimetype='multipart/x-mixed-replace; boundary=frame')\n",
    "\n",
    "@app.route('/video_feed_static')\n",
    "def video_feed_static():\n",
    "    return render_template('Videoplayingtemp.html')\n",
    "\n",
    "\n",
    "app.run(host='0.0.0.0')\n",
    "\n"
   ]
  }
 ],
 "metadata": {
  "kernelspec": {
   "display_name": "Python 3",
   "language": "python",
   "name": "python3"
  },
  "language_info": {
   "codemirror_mode": {
    "name": "ipython",
    "version": 3
   },
   "file_extension": ".py",
   "mimetype": "text/x-python",
   "name": "python",
   "nbconvert_exporter": "python",
   "pygments_lexer": "ipython3",
   "version": "3.6.9"
  }
 },
 "nbformat": 4,
 "nbformat_minor": 2
}
